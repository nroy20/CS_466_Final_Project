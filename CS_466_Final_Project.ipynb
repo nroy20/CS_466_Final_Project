{
  "nbformat": 4,
  "nbformat_minor": 0,
  "metadata": {
    "colab": {
      "name": "CS_466_Final_Project.ipynb",
      "provenance": [],
      "collapsed_sections": []
    },
    "kernelspec": {
      "name": "python3",
      "display_name": "Python 3"
    },
    "language_info": {
      "name": "python"
    }
  },
  "cells": [
    {
      "cell_type": "code",
      "execution_count": 18,
      "metadata": {
        "colab": {
          "base_uri": "https://localhost:8080/"
        },
        "id": "R-nyvracrZBf",
        "outputId": "5a253870-e436-449a-88ae-6f97f0a1c229"
      },
      "outputs": [
        {
          "output_type": "stream",
          "name": "stdout",
          "text": [
            "Requirement already satisfied: nose in /usr/local/lib/python3.7/dist-packages (1.3.7)\n"
          ]
        }
      ],
      "source": [
        "!pip install nose"
      ]
    },
    {
      "cell_type": "code",
      "source": [
        "!wget -c 'https://drive.google.com/uc?export=download&id=1rh6Rgjoyloyp2hPhTlOBD16yc7sc3gPy' -O data.zip\n",
        "!unzip -o data.zip\n",
        "!wget -c 'https://drive.google.com/file/d/1wxUuN8QILUfuRgafKbg1zB7uVoWPcMZw/view?usp=sharing' -O CBM1.txt"
      ],
      "metadata": {
        "colab": {
          "base_uri": "https://localhost:8080/"
        },
        "id": "3r0XQ87Drh8n",
        "outputId": "8542f6df-1d58-49a0-fbb0-453cf7232476"
      },
      "execution_count": 19,
      "outputs": [
        {
          "output_type": "stream",
          "name": "stdout",
          "text": [
            "--2021-12-20 03:09:40--  https://drive.google.com/uc?export=download&id=1rh6Rgjoyloyp2hPhTlOBD16yc7sc3gPy\n",
            "Resolving drive.google.com (drive.google.com)... 74.125.204.138, 74.125.204.102, 74.125.204.100, ...\n",
            "Connecting to drive.google.com (drive.google.com)|74.125.204.138|:443... connected.\n",
            "HTTP request sent, awaiting response... 302 Moved Temporarily\n",
            "Location: https://doc-0c-3c-docs.googleusercontent.com/docs/securesc/ha0ro937gcuc7l7deffksulhg5h7mbp1/egqg1flcaq1b8ugecndubiip04o8oi3k/1639969725000/07504575957156967943/*/1rh6Rgjoyloyp2hPhTlOBD16yc7sc3gPy?e=download [following]\n",
            "Warning: wildcards not supported in HTTP.\n",
            "--2021-12-20 03:09:41--  https://doc-0c-3c-docs.googleusercontent.com/docs/securesc/ha0ro937gcuc7l7deffksulhg5h7mbp1/egqg1flcaq1b8ugecndubiip04o8oi3k/1639969725000/07504575957156967943/*/1rh6Rgjoyloyp2hPhTlOBD16yc7sc3gPy?e=download\n",
            "Resolving doc-0c-3c-docs.googleusercontent.com (doc-0c-3c-docs.googleusercontent.com)... 74.125.23.132, 2404:6800:4008:c02::84\n",
            "Connecting to doc-0c-3c-docs.googleusercontent.com (doc-0c-3c-docs.googleusercontent.com)|74.125.23.132|:443... connected.\n",
            "HTTP request sent, awaiting response... 416 Requested range not satisfiable\n",
            "\n",
            "    The file is already fully retrieved; nothing to do.\n",
            "\n",
            "Archive:  data.zip\n",
            "  inflating: BLOSUM62.txt            \n",
            "  inflating: Q2b_reference.txt       \n",
            "--2021-12-20 03:09:41--  https://drive.google.com/file/d/1wxUuN8QILUfuRgafKbg1zB7uVoWPcMZw/view?usp=sharing\n",
            "Resolving drive.google.com (drive.google.com)... 74.125.204.100, 74.125.204.139, 74.125.204.102, ...\n",
            "Connecting to drive.google.com (drive.google.com)|74.125.204.100|:443... connected.\n",
            "HTTP request sent, awaiting response... 200 OK\n",
            "Length: unspecified [text/html]\n",
            "Saving to: ‘CBM1.txt’\n",
            "\n",
            "CBM1.txt                [  <=>               ]  65.48K   181KB/s    in 0.4s    \n",
            "\n",
            "2021-12-20 03:09:42 (181 KB/s) - ‘CBM1.txt’ saved [67049]\n",
            "\n"
          ]
        }
      ]
    },
    {
      "cell_type": "code",
      "source": [
        "def read_blosum62(path):\n",
        "    \"\"\"\n",
        "    Reads in the ncbi's BLOSUM62.txt file and loads the scoring matrix\n",
        "    into a dictionary.\n",
        "    \n",
        "    :param: path is the full path in the local filesystem at which the .txt file is located\n",
        "    :return: a dictionary of dictionaries which will hold the cost of various amino acid\n",
        "    substitutions as defined in BLOSUM62.\n",
        "    \"\"\"\n",
        "    delta = {}\n",
        "    with open(path, 'r') as f:\n",
        "        lines = f.readlines()[6:]\n",
        "        keys = lines[0].split()\n",
        "        keys[-1] = '-'\n",
        "        for i, line in enumerate(lines[1:]):\n",
        "            delta[keys[i]] = {k : int(v) for (k,v) in zip(keys, line.split()[1:])}  \n",
        "    return delta\n",
        "\n",
        "blosum = read_blosum62('./BLOSUM62.txt')\n",
        "print(blosum)"
      ],
      "metadata": {
        "id": "4xbSiXuTsDsD",
        "colab": {
          "base_uri": "https://localhost:8080/"
        },
        "outputId": "7c3a5efe-f044-48ce-ff04-1323934a9e5b"
      },
      "execution_count": 20,
      "outputs": [
        {
          "output_type": "stream",
          "name": "stdout",
          "text": [
            "{'A': {'A': 4, 'R': -1, 'N': -2, 'D': -2, 'C': 0, 'Q': -1, 'E': -1, 'G': 0, 'H': -2, 'I': -1, 'L': -1, 'K': -1, 'M': -1, 'F': -2, 'P': -1, 'S': 1, 'T': 0, 'W': -3, 'Y': -2, 'V': 0, 'B': -2, 'Z': -1, 'X': 0, '-': -4}, 'R': {'A': -1, 'R': 5, 'N': 0, 'D': -2, 'C': -3, 'Q': 1, 'E': 0, 'G': -2, 'H': 0, 'I': -3, 'L': -2, 'K': 2, 'M': -1, 'F': -3, 'P': -2, 'S': -1, 'T': -1, 'W': -3, 'Y': -2, 'V': -3, 'B': -1, 'Z': 0, 'X': -1, '-': -4}, 'N': {'A': -2, 'R': 0, 'N': 6, 'D': 1, 'C': -3, 'Q': 0, 'E': 0, 'G': 0, 'H': 1, 'I': -3, 'L': -3, 'K': 0, 'M': -2, 'F': -3, 'P': -2, 'S': 1, 'T': 0, 'W': -4, 'Y': -2, 'V': -3, 'B': 3, 'Z': 0, 'X': -1, '-': -4}, 'D': {'A': -2, 'R': -2, 'N': 1, 'D': 6, 'C': -3, 'Q': 0, 'E': 2, 'G': -1, 'H': -1, 'I': -3, 'L': -4, 'K': -1, 'M': -3, 'F': -3, 'P': -1, 'S': 0, 'T': -1, 'W': -4, 'Y': -3, 'V': -3, 'B': 4, 'Z': 1, 'X': -1, '-': -4}, 'C': {'A': 0, 'R': -3, 'N': -3, 'D': -3, 'C': 9, 'Q': -3, 'E': -4, 'G': -3, 'H': -3, 'I': -1, 'L': -1, 'K': -3, 'M': -1, 'F': -2, 'P': -3, 'S': -1, 'T': -1, 'W': -2, 'Y': -2, 'V': -1, 'B': -3, 'Z': -3, 'X': -2, '-': -4}, 'Q': {'A': -1, 'R': 1, 'N': 0, 'D': 0, 'C': -3, 'Q': 5, 'E': 2, 'G': -2, 'H': 0, 'I': -3, 'L': -2, 'K': 1, 'M': 0, 'F': -3, 'P': -1, 'S': 0, 'T': -1, 'W': -2, 'Y': -1, 'V': -2, 'B': 0, 'Z': 3, 'X': -1, '-': -4}, 'E': {'A': -1, 'R': 0, 'N': 0, 'D': 2, 'C': -4, 'Q': 2, 'E': 5, 'G': -2, 'H': 0, 'I': -3, 'L': -3, 'K': 1, 'M': -2, 'F': -3, 'P': -1, 'S': 0, 'T': -1, 'W': -3, 'Y': -2, 'V': -2, 'B': 1, 'Z': 4, 'X': -1, '-': -4}, 'G': {'A': 0, 'R': -2, 'N': 0, 'D': -1, 'C': -3, 'Q': -2, 'E': -2, 'G': 6, 'H': -2, 'I': -4, 'L': -4, 'K': -2, 'M': -3, 'F': -3, 'P': -2, 'S': 0, 'T': -2, 'W': -2, 'Y': -3, 'V': -3, 'B': -1, 'Z': -2, 'X': -1, '-': -4}, 'H': {'A': -2, 'R': 0, 'N': 1, 'D': -1, 'C': -3, 'Q': 0, 'E': 0, 'G': -2, 'H': 8, 'I': -3, 'L': -3, 'K': -1, 'M': -2, 'F': -1, 'P': -2, 'S': -1, 'T': -2, 'W': -2, 'Y': 2, 'V': -3, 'B': 0, 'Z': 0, 'X': -1, '-': -4}, 'I': {'A': -1, 'R': -3, 'N': -3, 'D': -3, 'C': -1, 'Q': -3, 'E': -3, 'G': -4, 'H': -3, 'I': 4, 'L': 2, 'K': -3, 'M': 1, 'F': 0, 'P': -3, 'S': -2, 'T': -1, 'W': -3, 'Y': -1, 'V': 3, 'B': -3, 'Z': -3, 'X': -1, '-': -4}, 'L': {'A': -1, 'R': -2, 'N': -3, 'D': -4, 'C': -1, 'Q': -2, 'E': -3, 'G': -4, 'H': -3, 'I': 2, 'L': 4, 'K': -2, 'M': 2, 'F': 0, 'P': -3, 'S': -2, 'T': -1, 'W': -2, 'Y': -1, 'V': 1, 'B': -4, 'Z': -3, 'X': -1, '-': -4}, 'K': {'A': -1, 'R': 2, 'N': 0, 'D': -1, 'C': -3, 'Q': 1, 'E': 1, 'G': -2, 'H': -1, 'I': -3, 'L': -2, 'K': 5, 'M': -1, 'F': -3, 'P': -1, 'S': 0, 'T': -1, 'W': -3, 'Y': -2, 'V': -2, 'B': 0, 'Z': 1, 'X': -1, '-': -4}, 'M': {'A': -1, 'R': -1, 'N': -2, 'D': -3, 'C': -1, 'Q': 0, 'E': -2, 'G': -3, 'H': -2, 'I': 1, 'L': 2, 'K': -1, 'M': 5, 'F': 0, 'P': -2, 'S': -1, 'T': -1, 'W': -1, 'Y': -1, 'V': 1, 'B': -3, 'Z': -1, 'X': -1, '-': -4}, 'F': {'A': -2, 'R': -3, 'N': -3, 'D': -3, 'C': -2, 'Q': -3, 'E': -3, 'G': -3, 'H': -1, 'I': 0, 'L': 0, 'K': -3, 'M': 0, 'F': 6, 'P': -4, 'S': -2, 'T': -2, 'W': 1, 'Y': 3, 'V': -1, 'B': -3, 'Z': -3, 'X': -1, '-': -4}, 'P': {'A': -1, 'R': -2, 'N': -2, 'D': -1, 'C': -3, 'Q': -1, 'E': -1, 'G': -2, 'H': -2, 'I': -3, 'L': -3, 'K': -1, 'M': -2, 'F': -4, 'P': 7, 'S': -1, 'T': -1, 'W': -4, 'Y': -3, 'V': -2, 'B': -2, 'Z': -1, 'X': -2, '-': -4}, 'S': {'A': 1, 'R': -1, 'N': 1, 'D': 0, 'C': -1, 'Q': 0, 'E': 0, 'G': 0, 'H': -1, 'I': -2, 'L': -2, 'K': 0, 'M': -1, 'F': -2, 'P': -1, 'S': 4, 'T': 1, 'W': -3, 'Y': -2, 'V': -2, 'B': 0, 'Z': 0, 'X': 0, '-': -4}, 'T': {'A': 0, 'R': -1, 'N': 0, 'D': -1, 'C': -1, 'Q': -1, 'E': -1, 'G': -2, 'H': -2, 'I': -1, 'L': -1, 'K': -1, 'M': -1, 'F': -2, 'P': -1, 'S': 1, 'T': 5, 'W': -2, 'Y': -2, 'V': 0, 'B': -1, 'Z': -1, 'X': 0, '-': -4}, 'W': {'A': -3, 'R': -3, 'N': -4, 'D': -4, 'C': -2, 'Q': -2, 'E': -3, 'G': -2, 'H': -2, 'I': -3, 'L': -2, 'K': -3, 'M': -1, 'F': 1, 'P': -4, 'S': -3, 'T': -2, 'W': 11, 'Y': 2, 'V': -3, 'B': -4, 'Z': -3, 'X': -2, '-': -4}, 'Y': {'A': -2, 'R': -2, 'N': -2, 'D': -3, 'C': -2, 'Q': -1, 'E': -2, 'G': -3, 'H': 2, 'I': -1, 'L': -1, 'K': -2, 'M': -1, 'F': 3, 'P': -3, 'S': -2, 'T': -2, 'W': 2, 'Y': 7, 'V': -1, 'B': -3, 'Z': -2, 'X': -1, '-': -4}, 'V': {'A': 0, 'R': -3, 'N': -3, 'D': -3, 'C': -1, 'Q': -2, 'E': -2, 'G': -3, 'H': -3, 'I': 3, 'L': 1, 'K': -2, 'M': 1, 'F': -1, 'P': -2, 'S': -2, 'T': 0, 'W': -3, 'Y': -1, 'V': 4, 'B': -3, 'Z': -2, 'X': -1, '-': -4}, 'B': {'A': -2, 'R': -1, 'N': 3, 'D': 4, 'C': -3, 'Q': 0, 'E': 1, 'G': -1, 'H': 0, 'I': -3, 'L': -4, 'K': 0, 'M': -3, 'F': -3, 'P': -2, 'S': 0, 'T': -1, 'W': -4, 'Y': -3, 'V': -3, 'B': 4, 'Z': 1, 'X': -1, '-': -4}, 'Z': {'A': -1, 'R': 0, 'N': 0, 'D': 1, 'C': -3, 'Q': 3, 'E': 4, 'G': -2, 'H': 0, 'I': -3, 'L': -3, 'K': 1, 'M': -1, 'F': -3, 'P': -1, 'S': 0, 'T': -1, 'W': -3, 'Y': -2, 'V': -2, 'B': 1, 'Z': 4, 'X': -1, '-': -4}, 'X': {'A': 0, 'R': -1, 'N': -1, 'D': -1, 'C': -2, 'Q': -1, 'E': -1, 'G': -1, 'H': -1, 'I': -1, 'L': -1, 'K': -1, 'M': -1, 'F': -1, 'P': -2, 'S': 0, 'T': 0, 'W': -2, 'Y': -1, 'V': -1, 'B': -1, 'Z': -1, 'X': -1, '-': -4}, '-': {'A': -4, 'R': -4, 'N': -4, 'D': -4, 'C': -4, 'Q': -4, 'E': -4, 'G': -4, 'H': -4, 'I': -4, 'L': -4, 'K': -4, 'M': -4, 'F': -4, 'P': -4, 'S': -4, 'T': -4, 'W': -4, 'Y': -4, 'V': -4, 'B': -4, 'Z': -4, 'X': -4, '-': 1}}\n"
          ]
        }
      ]
    },
    {
      "cell_type": "code",
      "source": [
        "UP = (-1,0)\n",
        "LEFT = (0, -1)\n",
        "TOPLEFT = (-1, -1)\n",
        "ORIGIN = (0, 0)\n",
        "\n",
        "def traceback_global(v, w, pointers):\n",
        "    i,j = len(v), len(w)\n",
        "    new_v = []\n",
        "    new_w = []\n",
        "    while True:\n",
        "        di, dj = pointers[i][j]\n",
        "        if (di,dj) == LEFT:\n",
        "            new_v.append('-')\n",
        "            new_w.append(w[j-1])\n",
        "        elif (di,dj) == UP:\n",
        "            new_v.append(v[i-1])\n",
        "            new_w.append('-')\n",
        "        elif (di,dj) == TOPLEFT:\n",
        "            new_v.append(v[i-1])\n",
        "            new_w.append(w[j-1])\n",
        "        i, j = i + di, j + dj\n",
        "        if (i <= 0 and j <= 0):\n",
        "            break\n",
        "    return ''.join(new_v[::-1])+'\\n'+''.join(new_w[::-1])\n",
        "    \n",
        "\n",
        "\n",
        "def global_align(v, w, delta):\n",
        "    \"\"\"\n",
        "    Returns the score of the maximum scoring alignment of the strings v and w, as well as the actual alignment as \n",
        "    computed by traceback_global. \n",
        "    \n",
        "    :param: v\n",
        "    :param: w\n",
        "    :param: delta\n",
        "    \"\"\"\n",
        "    M = [[0 for j in range(len(w)+1)] for i in range(len(v)+1)]\n",
        "    pointers = [[0 for j in range(len(w)+1)] for i in range(len(v)+1)]\n",
        "    score, alignment = None, None\n",
        "    \n",
        "    #nw algorithm\n",
        "    for i in range(len(v)+1):\n",
        "      for j in range(len(w)+1):\n",
        "        if i is 0 and j is 0:\n",
        "          M[i][j] = 0\n",
        "        else:\n",
        "          deletion = None\n",
        "          insertion = None\n",
        "          mmatch = None\n",
        "          ops = []\n",
        "          if i > 0:\n",
        "            deletion = M[i - 1][j] + delta['-'][v[i-1]]\n",
        "            ops.append(deletion)\n",
        "          if j > 0:\n",
        "            insertion = M[i][j - 1] + delta['-'][w[j-1]]\n",
        "            ops.append(insertion)\n",
        "          if i > 0 and j > 0:\n",
        "            mmatch = M[i - 1][j - 1] + delta[v[i-1]][w[j-1]]\n",
        "            ops.append(mmatch)\n",
        "          M[i][j] = max(ops)\n",
        "          if M[i][j] is insertion:\n",
        "            pointers[i][j] = LEFT\n",
        "          elif M[i][j] is deletion:\n",
        "            pointers[i][j] = UP\n",
        "          else:\n",
        "            pointers[i][j] = TOPLEFT\n",
        "    score = M[len(v)][len(w)]\n",
        "    \n",
        "    alignment = traceback_global(v,w, pointers)\n",
        "    return score, alignment"
      ],
      "metadata": {
        "id": "TAL2MQXtsJCt"
      },
      "execution_count": 21,
      "outputs": []
    },
    {
      "cell_type": "code",
      "source": [
        "UP = (-1,0)\n",
        "LEFT = (0, -1)\n",
        "TOPLEFT = (-1, -1)\n",
        "ORIGIN = (0, 0)\n",
        "\n",
        "def traceback_banded (v, w, pointers):\n",
        "    i,j = len(v), len(w)\n",
        "    new_v = []\n",
        "    new_w = []\n",
        "    while True:\n",
        "        di, dj = pointers[i][j-i]\n",
        "        if (di,dj) == LEFT:\n",
        "            new_v.append('-')\n",
        "            new_w.append(w[j-1])\n",
        "        elif (di,dj) == UP:\n",
        "            new_v.append(v[i-1])\n",
        "            new_w.append('-')\n",
        "        elif (di,dj) == TOPLEFT:\n",
        "            new_v.append(v[i-1])\n",
        "            new_w.append(w[j-1])\n",
        "        i, j = i + di, j + dj\n",
        "        if (i <= 0 and j <= 0):\n",
        "            break\n",
        "    return ''.join(new_v[::-1])+'\\n'+''.join(new_w[::-1])\n",
        "    \n",
        "def banded_align(v, w, k, delta):\n",
        "    \"\"\"\n",
        "    Returns the score of the maximum scoring banded alignment of the strings v and w, as well as the actual alignment as \n",
        "    computed by traceback_global. \n",
        "    \n",
        "    :param: v\n",
        "    :param: w\n",
        "    :param: k\n",
        "    :param: delta\n",
        "    \"\"\"\n",
        "    d = len(w)-len(v)\n",
        "    if abs(d)+2*k > len(w):\n",
        "        return banded_align_old(v, w, k, delta)\n",
        "    M = [[0 for j in range(abs(d)+1+2*k)] for i in range(len(v)+1)]\n",
        "    pointers = [[0 for j in range(abs(d)+1+2*k)] for i in range(len(v)+1)]\n",
        "    score, alignment = None, None\n",
        "    if d >= 0:\n",
        "        a, b = 0, d\n",
        "    else:\n",
        "        a, b = d, 0\n",
        "\n",
        "    for i in range(len(v)+1):\n",
        "        for j in range(max(i+a-k,0), min(i+b+k,len(w))+1):\n",
        "            jj = j - i\n",
        "            if i is 0 and j is 0:\n",
        "                M[i][jj] = 0\n",
        "            else:\n",
        "                deletion = None\n",
        "                insertion = None\n",
        "                mmatch = None\n",
        "                ops = []\n",
        "                if i > 0 and jj < b+k:\n",
        "                    deletion = M[i - 1][j - (i - 1)] + delta['-'][v[i-1]]\n",
        "                    ops.append(deletion)\n",
        "                if j > 0 and jj > a-k:\n",
        "                    insertion = M[i][j - 1 - i] + delta['-'][w[j-1]]\n",
        "                    ops.append(insertion)\n",
        "                if i > 0 and j > 0:\n",
        "                    mmatch = M[i - 1][jj] + delta[v[i-1]][w[j-1]]\n",
        "                    ops.append(mmatch)\n",
        "                M[i][jj] = max(ops)\n",
        "                if M[i][jj] is insertion:\n",
        "                    pointers[i][jj] = LEFT\n",
        "                elif M[i][jj] is deletion:\n",
        "                    pointers[i][jj] = UP\n",
        "                else:\n",
        "                    pointers[i][jj] = TOPLEFT\n",
        "    score = M[len(v)][len(w)-len(v)]\n",
        "    alignment = traceback_banded(v, w, pointers)\n",
        "    return score, alignment\n",
        "\n",
        "def banded_align_old(v, w, k, delta):\n",
        "    \"\"\"\n",
        "    Returns the score of the maximum scoring alignment of the strings v and w, as well as the actual alignment as \n",
        "    computed by traceback_global. \n",
        "    \n",
        "    :param: v\n",
        "    :param: w\n",
        "    :param: delta\n",
        "    \"\"\"\n",
        "    M = [[0 for j in range(len(w)+1)] for i in range(len(v)+1)]\n",
        "    pointers = [[0 for j in range(len(w)+1)] for i in range(len(v)+1)]\n",
        "    score, alignment = None, None\n",
        "    \n",
        "    #nw algorithm\n",
        "    for i in range(len(v)+1):\n",
        "      for j in range(len(w)+1):\n",
        "        if i is 0 and j is 0:\n",
        "          M[i][j] = 0\n",
        "        else:\n",
        "          deletion = None\n",
        "          insertion = None\n",
        "          mmatch = None\n",
        "          ops = []\n",
        "          if i > 0 and j - i < k:\n",
        "            deletion = M[i - 1][j] + delta['-'][v[i-1]]\n",
        "            ops.append(deletion)\n",
        "          if j > 0 and i - j < k:\n",
        "            insertion = M[i][j - 1] + delta['-'][w[j-1]]\n",
        "            ops.append(insertion)\n",
        "          if i > 0 and j > 0:\n",
        "            mmatch = M[i - 1][j - 1] + delta[v[i-1]][w[j-1]]\n",
        "            ops.append(mmatch)\n",
        "          M[i][j] = max(ops)\n",
        "          if M[i][j] is insertion:\n",
        "            pointers[i][j] = LEFT\n",
        "          elif M[i][j] is deletion:\n",
        "            pointers[i][j] = UP\n",
        "          else:\n",
        "            pointers[i][j] = TOPLEFT\n",
        "    score = M[len(v)][len(w)]\n",
        "    \n",
        "    alignment = traceback_global(v,w, pointers)\n",
        "    return score, alignment"
      ],
      "metadata": {
        "id": "Fejj8ybytyGs"
      },
      "execution_count": 22,
      "outputs": []
    },
    {
      "cell_type": "code",
      "source": [
        "import time\n",
        "\n",
        "def print_alignment(score_alignment):\n",
        "    score, alignment = score_alignment\n",
        "    print('Score:',score)\n",
        "    print(alignment)"
      ],
      "metadata": {
        "id": "4EODoFcqMTxE"
      },
      "execution_count": 23,
      "outputs": []
    },
    {
      "cell_type": "code",
      "source": [
        "def run_alignments(seq1, seq2):\n",
        "  N = 400\n",
        "  start_time = time.time()\n",
        "  for _ in range(N):\n",
        "      global_align(seq1, seq2, blosum)\n",
        "  print(f' Global Alignment x{N}: {time.time() - start_time} seconds '.center(100, '='))\n",
        "  score, alignment = global_align(seq1, seq2, blosum)\n",
        "  print_alignment((score, alignment))\n",
        "  k = 0\n",
        "  while True:\n",
        "    start_time = time.time()\n",
        "    for _ in range(N):\n",
        "        banded_align(seq1, seq2, k, blosum)\n",
        "    print()\n",
        "    print(f' Banded Alignment (k={k}) x{N}: {time.time() - start_time} seconds '.center(100, '='))\n",
        "    scoreb, alignmentb = banded_align(seq1, seq2, k, blosum)\n",
        "    print_alignment((scoreb, alignmentb))\n",
        "    if scoreb == score: break\n",
        "    k += 1"
      ],
      "metadata": {
        "id": "tf-PUU74yEw-"
      },
      "execution_count": 24,
      "outputs": []
    },
    {
      "cell_type": "code",
      "source": [
        "s1 = \"LYYKCGGWHDGKPWTGCTQCVKGAKCVVQNEWY\"\n",
        "s2 = \"IYHQCGGSKSAYPDGSLSCASGSKCVKMNDYY\"\n",
        "run_alignments(s1, s2)"
      ],
      "metadata": {
        "colab": {
          "base_uri": "https://localhost:8080/"
        },
        "id": "AvVz_PjOWgYU",
        "outputId": "2bcaac0b-b6da-4ef7-9e2d-869c686deea2"
      },
      "execution_count": 25,
      "outputs": [
        {
          "output_type": "stream",
          "name": "stdout",
          "text": [
            "======================== Global Alignment x400: 0.9592514038085938 seconds =========================\n",
            "Score: 82\n",
            "LYYKCGGWHDGKPWTGCTQCVKGAKCVVQNEWY\n",
            "IYHQCGGSKSAYP-DGSLSCASGSKCVKMNDYY\n",
            "\n",
            "===================== Banded Alignment (k=0) x400: 0.12568116188049316 seconds =====================\n",
            "Score: 82\n",
            "LYYKCGGWHDGKPWTGCTQCVKGAKCVVQNEWY\n",
            "IYHQCGGSKSAYP-DGSLSCASGSKCVKMNDYY\n"
          ]
        }
      ]
    },
    {
      "cell_type": "code",
      "source": [
        "s1 = \"LWGQCGGIAWTGPTTCSPYYSNTPVKCTTYNPYY\"\n",
        "s2 = \"EWEQCGGSGGGAVNGVWTGPTCCEVGTTCHYKDQYW\"\n",
        "run_alignments(s1, s2)"
      ],
      "metadata": {
        "colab": {
          "base_uri": "https://localhost:8080/"
        },
        "id": "CUvXjAuOz7rd",
        "outputId": "42e3f41d-46e7-4bf2-cf9f-f3f8051a6e16"
      },
      "execution_count": 17,
      "outputs": [
        {
          "output_type": "stream",
          "name": "stdout",
          "text": [
            "======================== Global Alignment x400: 1.3050403594970703 seconds =========================\n",
            "Score: 48\n",
            "LWGQCGG-----I-A-WTGPTTCSPYYSNTPVKCTTY-NPYY\n",
            "EWEQCGGSGGGAVNGVWTGPTCCE-V-GTT---CH-YKDQYW\n",
            "\n",
            "===================== Banded Alignment (k=0) x400: 0.12092351913452148 seconds =====================\n",
            "Score: 29\n",
            "LWGQCGGIAWTGPT-TCS-PYYSNTPVKCTTY-NPYY\n",
            "EWEQCGGSGGGAVNGVWTGPTCCEVGTTCH-YKDQYW\n",
            "\n",
            "===================== Banded Alignment (k=1) x400: 0.19289875030517578 seconds =====================\n",
            "Score: 36\n",
            "LWGQCGGI---AWTGPTTCSPYYSNTPVKCTTY-NPYY\n",
            "EWEQCGGSGGGAVNGVWT-GPTCCEVGTTCH-YKDQYW\n",
            "\n",
            "===================== Banded Alignment (k=2) x400: 0.24329590797424316 seconds =====================\n",
            "Score: 36\n",
            "LWGQCGGI---AWTGPTTCSPYYSNTPVKCTTY-NPYY\n",
            "EWEQCGGSGGGAVNGVWT-GPTCCEVGTTCH-YKDQYW\n",
            "\n",
            "===================== Banded Alignment (k=3) x400: 0.2993900775909424 seconds ======================\n",
            "Score: 36\n",
            "LWGQCGGI---AWTGPTTCSPYYSNTPVKCTTY-NPYY\n",
            "EWEQCGGSGGGAVNGVWT-GPTCCEVGTTCH-YKDQYW\n",
            "\n",
            "===================== Banded Alignment (k=4) x400: 0.3669602870941162 seconds ======================\n",
            "Score: 36\n",
            "LWGQCGGI---AWTGPTTCSPYYSNTPVKCTTY-NPYY\n",
            "EWEQCGGSGGGAVNGVWT-GPTCCEVGTTCH-YKDQYW\n",
            "\n",
            "===================== Banded Alignment (k=5) x400: 0.4181516170501709 seconds ======================\n",
            "Score: 48\n",
            "LWGQCGG-----I-A-WTGPTTCSPYYSNTPVKCTTY-NPYY\n",
            "EWEQCGGSGGGAVNGVWTGPTCCE-V-GTT---CH-YKDQYW\n"
          ]
        }
      ]
    }
  ]
}